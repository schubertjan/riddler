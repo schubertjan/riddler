{
 "cells": [
  {
   "cell_type": "markdown",
   "metadata": {},
   "source": [
    "I have 10 pairs of socks in a drawer. Each pair is distinct from another and consists of two matching socks. Alas, I’m negligent when it comes to folding my laundry, and so the socks are not folded into pairs. This morning, fumbling around in the dark, I pull the socks out of the drawer, randomly and one at a time, until I have a matching pair of socks among the ones I’ve removed from the drawer.\n",
    "\n",
    "On average, how many socks will I pull out of the drawer in order to get my first matching pair?\n",
    "\n",
    "(Note: This is different from asking how many socks I must pull out of the drawer to guarantee that I have a matching pair. The answer to that question, by the pigeonhole principle, is 11 socks. This question is instead asking about the average.)"
   ]
  },
  {
   "cell_type": "code",
   "execution_count": 173,
   "metadata": {},
   "outputs": [],
   "source": [
    "import numpy as np\n",
    "import random\n",
    "import matplotlib.pyplot as plt\n",
    "\n",
    "#define functions\n",
    "def x_count(x):\n",
    "    t = []\n",
    "    for i in x:\n",
    "        t.append(x.count(i))\n",
    "    return t\n",
    "\n",
    "def return_two(x):\n",
    "    for i in range(0,len(x)):\n",
    "        if x[i] == 2:\n",
    "            return i\n",
    "        \n",
    "\n",
    "\n",
    "# define our socks population\n",
    "socks = [\"A\", \"B\", \"C\", \"D\", \"E\", \"F\", \"G\", \"H\", \"I\", \"J\"] * 2\n"
   ]
  },
  {
   "cell_type": "code",
   "execution_count": 174,
   "metadata": {},
   "outputs": [],
   "source": [
    "#define number of iterations\n",
    "n_iter = 100000\n",
    "n_draws = []\n",
    "\n",
    "for i in range(1,n_iter):\n",
    "    #randomly schufle socks\n",
    "    random_socks = random.sample(socks, k = len(socks))\n",
    "    \n",
    "    indx = None\n",
    "    j = 0\n",
    "    while indx == None:\n",
    "        indx = return_two(x_count(random_socks[0:j]))\n",
    "        j = j + 1 \n",
    "    \n",
    "    #use j -1 because the first sock (index 0) counts as a draw\n",
    "    n_draws.append(j - 1)"
   ]
  },
  {
   "cell_type": "code",
   "execution_count": 175,
   "metadata": {},
   "outputs": [
    {
     "data": {
      "text/plain": [
       "5.67"
      ]
     },
     "execution_count": 175,
     "metadata": {},
     "output_type": "execute_result"
    }
   ],
   "source": [
    "#average number of socks I need to pull out\n",
    "np.round(np.mean(n_draws), 2)"
   ]
  },
  {
   "cell_type": "code",
   "execution_count": 176,
   "metadata": {},
   "outputs": [
    {
     "data": {
      "image/png": "[encoded data removed]",
      "text/plain": [
       "<Figure size 432x288 with 1 Axes>"
      ]
     },
     "metadata": {
      "needs_background": "light"
     },
     "output_type": "display_data"
    }
   ],
   "source": [
    "fig, ax = plt.subplots() \n",
    "ax.hist(n_draws)\n",
    "ax.set_title(\"Dist of the number of socks needed for a matching pair\")\n",
    "plt.show()"
   ]
  }
 ],
 "metadata": {
  "kernelspec": {
   "display_name": "Python 3",
   "language": "python",
   "name": "python3"
  },
  "language_info": {
   "codemirror_mode": {
    "name": "ipython",
    "version": 3
   },
   "file_extension": ".py",
   "mimetype": "text/x-python",
   "name": "python",
   "nbconvert_exporter": "python",
   "pygments_lexer": "ipython3",
   "version": "3.7.4"
  }
 },
 "nbformat": 4,
 "nbformat_minor": 2
}
