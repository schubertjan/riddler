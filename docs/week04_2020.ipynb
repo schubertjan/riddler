{
 "cells": [
  {
   "cell_type": "markdown",
   "metadata": {},
   "source": [
    "Suppose there are 20 players on the ballot and 400 voters in a given year. Each voter can select up to 10 players for induction without voting for any given player more than once. To gain entry, a player must have been selected on at least 75 percent of the ballots.\n",
    "\n",
    "Under these circumstances, what is the maximum number of players that can be inducted into the Hall of Fame?"
   ]
  },
  {
   "cell_type": "code",
   "execution_count": 194,
   "metadata": {},
   "outputs": [
    {
     "name": "stdout",
     "output_type": "stream",
     "text": [
      "['A', 'B', 'C', 'D', 'E', 'F', 'G', 'H', 'I', 'J', 'K', 'L', 'M', 'N', 'O', 'P', 'Q', 'R', 'S', 'T']\n"
     ]
    }
   ],
   "source": [
    "import numpy as np\n",
    "from string import ascii_uppercase\n",
    "import pandas as pd\n",
    "import matplotlib.pyplot as plt \n",
    "\n",
    "#define our players\n",
    "players = ascii_uppercase[0:20]\n",
    "players = list(players)\n",
    "print(players)\n",
    "\n",
    "#define number of voters\n",
    "voters = 400"
   ]
  },
  {
   "cell_type": "markdown",
   "metadata": {},
   "source": [
    "Run with randomly selecting from 15 players"
   ]
  },
  {
   "cell_type": "code",
   "execution_count": 195,
   "metadata": {},
   "outputs": [],
   "source": [
    "random.seed(1)\n",
    "\n",
    "#define simulation\n",
    "n_iter = 500\n",
    "selected_players = []\n",
    "\n",
    "for i in range(1,n_iter):\n",
    "    #create an empty data frame to store ballots\n",
    "    df = pd.DataFrame(np.array([np.arange(10)]*voters).T)\n",
    "    #let 400 people select 10 players\n",
    "    for j in range(0, len(df.columns)):\n",
    "        ballot = np.random.choice(a = players[0:15], size = 10, replace = False)\n",
    "        df.iloc[:, j] = ballot\n",
    "    #calculate proportion of each player in ballots\n",
    "    df_flat = df.melt()\n",
    "    number_of_ballots = len(df_flat[\"variable\"].value_counts())\n",
    "    t = df_flat[\"value\"].value_counts() / number_of_ballots\n",
    "    t = t[t >= 0.75]\n",
    "    n = []\n",
    "    # extract players names\n",
    "    for z in t.index:\n",
    "        n.append(z)\n",
    "    #save into a list\n",
    "    selected_players.extend(n)"
   ]
  },
  {
   "cell_type": "code",
   "execution_count": 196,
   "metadata": {},
   "outputs": [],
   "source": [
    "df2 = pd.DataFrame(selected_players)\n",
    "if len(df2) > 0:\n",
    "    df2[0].nunique()\n",
    "else:\n",
    "    print(0)"
   ]
  },
  {
   "cell_type": "markdown",
   "metadata": {},
   "source": [
    "Run with randomly selecting from 14 players"
   ]
  },
  {
   "cell_type": "code",
   "execution_count": 197,
   "metadata": {},
   "outputs": [],
   "source": [
    "#define simulation\n",
    "n_iter = 500\n",
    "selected_players = []\n",
    "\n",
    "for i in range(1,n_iter):\n",
    "    #create an empty data frame to store ballots\n",
    "    df = pd.DataFrame(np.array([np.arange(10)]*voters).T)\n",
    "    #let 400 people select 10 players\n",
    "    for j in range(0, len(df.columns)):\n",
    "        ballot = np.random.choice(a = players[0:14], size = 10, replace = False)\n",
    "        df.iloc[:, j] = ballot\n",
    "    #calculate proportion of each player in ballots\n",
    "    df_flat = df.melt()\n",
    "    number_of_ballots = len(df_flat[\"variable\"].value_counts())\n",
    "    t = df_flat[\"value\"].value_counts() / number_of_ballots\n",
    "    t = t[t >= 0.75]\n",
    "    n = []\n",
    "    # extract players names\n",
    "    for z in t.index:\n",
    "        n.append(z)\n",
    "    #save into a list\n",
    "    selected_players.extend(n)"
   ]
  },
  {
   "cell_type": "code",
   "execution_count": 198,
   "metadata": {},
   "outputs": [],
   "source": [
    "df2 = pd.DataFrame(selected_players)\n",
    "if len(df2) > 0:\n",
    "    print(df2[0].nunique())\n",
    "else:\n",
    "    print(0)"
   ]
  },
  {
   "cell_type": "markdown",
   "metadata": {},
   "source": [
    "Run with randomly selecting from 13 players"
   ]
  },
  {
   "cell_type": "code",
   "execution_count": 199,
   "metadata": {},
   "outputs": [],
   "source": [
    "#define simulation\n",
    "n_iter = 500\n",
    "selected_players = []\n",
    "\n",
    "for i in range(1,n_iter):\n",
    "    #create an empty data frame to store ballots\n",
    "    df = pd.DataFrame(np.array([np.arange(10)]*voters).T)\n",
    "    #let 400 people select 10 players\n",
    "    for j in range(0, len(df.columns)):\n",
    "        ballot = np.random.choice(a = players[0:13], size = 10, replace = False)\n",
    "        df.iloc[:, j] = ballot\n",
    "    #calculate proportion of each player in ballots\n",
    "    df_flat = df.melt()\n",
    "    number_of_ballots = len(df_flat[\"variable\"].value_counts())\n",
    "    t = df_flat[\"value\"].value_counts() / number_of_ballots\n",
    "    t = t[t >= 0.75]\n",
    "    n = []\n",
    "    # extract players names\n",
    "    for z in t.index:\n",
    "        n.append(z)\n",
    "    #save into a list\n",
    "    selected_players.extend(n)"
   ]
  },
  {
   "cell_type": "code",
   "execution_count": 204,
   "metadata": {},
   "outputs": [
    {
     "name": "stdout",
     "output_type": "stream",
     "text": [
      "13\n"
     ]
    }
   ],
   "source": [
    "df2 = pd.DataFrame(selected_players)\n",
    "if len(df2) > 0:\n",
    "    print(df2[0].nunique())\n",
    "else:\n",
    "    print(0)"
   ]
  },
  {
   "cell_type": "markdown",
   "metadata": {},
   "source": [
    "The Answer is 13"
   ]
  }
 ],
 "metadata": {
  "kernelspec": {
   "display_name": "Python 3",
   "language": "python",
   "name": "python3"
  },
  "language_info": {
   "codemirror_mode": {
    "name": "ipython",
    "version": 3
   },
   "file_extension": ".py",
   "mimetype": "text/x-python",
   "name": "python",
   "nbconvert_exporter": "python",
   "pygments_lexer": "ipython3",
   "version": "3.7.4"
  }
 },
 "nbformat": 4,
 "nbformat_minor": 2
}
