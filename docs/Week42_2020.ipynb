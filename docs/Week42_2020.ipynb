{
 "metadata": {
  "language_info": {
   "codemirror_mode": {
    "name": "ipython",
    "version": 3
   },
   "file_extension": ".py",
   "mimetype": "text/x-python",
   "name": "python",
   "nbconvert_exporter": "python",
   "pygments_lexer": "ipython3",
   "version": "3.7.4-final"
  },
  "orig_nbformat": 2,
  "kernelspec": {
   "name": "Python 3.7.4 64-bit ('base': conda)",
   "display_name": "Python 3.7.4 64-bit ('base': conda)",
   "metadata": {
    "interpreter": {
     "hash": "365153e481c13fa64257d2c8cc1c35d238539bccf088d76e19b11878099430ef"
    }
   }
  }
 },
 "nbformat": 4,
 "nbformat_minor": 2,
 "cells": [
  {
   "source": [
    "Every weekend, I drive into town for contactless curbside pickup at a local restaurant. Across the street from the restaurant are six parking spots, lined up in a row.\n",
    "\n",
    "While I can parallel park, it’s definitely not my preference. No parallel parking is required when the rearmost of the six spots is available or when there are two consecutive open spots. If there is a random arrangement of cars currently occupying four of the six spots, what’s the probability that I will have to parallel park?"
   ],
   "cell_type": "markdown",
   "metadata": {}
  },
  {
   "cell_type": "code",
   "execution_count": 1,
   "metadata": {},
   "outputs": [],
   "source": [
    "import numpy as np"
   ]
  },
  {
   "cell_type": "code",
   "execution_count": 10,
   "metadata": {},
   "outputs": [],
   "source": [
    "n = 10000\n",
    "parking_slots = np.arange(1, 7)\n",
    "parallel = []\n",
    "\n",
    "for i in range(n):\n",
    "    # select how many cars will not be there\n",
    "    number_of_cars = np.random.randint(low=1, high=6, size=1)\n",
    "    # randomly assing free parking slots\n",
    "    free_parking_slots = np.random.choice(parking_slots, size=number_of_cars, replace = False)\n",
    "    # sort free parking slot   \n",
    "    free_parking_slots = np.sort(free_parking_slots)\n",
    "    # if any free parking slot is 1 or 6 we can park parallel \n",
    "    if np.any(np.logical_or(free_parking_slots == 1, free_parking_slots == 6)):\n",
    "        parallel.append(False)\n",
    "    # if there is only one parking slot left (and it is not 1 or 6) we cannot park      \n",
    "    elif free_parking_slots.shape[0] == 0:\n",
    "        parallel.append(True)\n",
    "    # if the parking slots are next to each other we can park parallel\n",
    "    elif np.any(np.diff(free_parking_slots) == 1):\n",
    "        parallel.append(False)\n",
    "    # else we cannot park parallel\n",
    "    else:\n",
    "        parallel.append(True)"
   ]
  },
  {
   "cell_type": "code",
   "execution_count": 18,
   "metadata": {},
   "outputs": [
    {
     "output_type": "stream",
     "name": "stdout",
     "text": [
      "I will be able to not park parallel in 0.82\n"
     ]
    }
   ],
   "source": [
    "print(\"I will be able to not park parallel in {}\".format(np.round(1-np.mean(parallel), 2)))"
   ]
  }
 ]
}